{
 "cells": [
  {
   "cell_type": "code",
   "execution_count": 17,
   "metadata": {},
   "outputs": [
    {
     "name": "stdout",
     "output_type": "stream",
     "text": [
      "0.18297\n",
      "0.01938\n"
     ]
    }
   ],
   "source": [
    "import random\n",
    "\n",
    "testTimes = 100000\n",
    "winProb = 0.75\n",
    "mvpProb = 0.3\n",
    "\n",
    "def streakCalculator(winProbPara, testTimes):\n",
    "    streakCount = 0\n",
    "    streakNumerator = 0\n",
    "    for i in range(1,testTimes):\n",
    "        ranNum = random.random()\n",
    "#         print('ranNum:',end=\"\")\n",
    "#         print(ranNum)\n",
    "        if ranNum < winProbPara:\n",
    "            streakNumerator = streakNumerator + 1\n",
    "#             print('streakNumerator:',end=\"\")\n",
    "#             print(streakNumerator)\n",
    "            if streakNumerator == 3:\n",
    "                streakCount = streakCount + 1\n",
    "#                 print('streakCount:',end=\"\")\n",
    "#                 print(streakCount)\n",
    "                streakNumerator = 0\n",
    "        else:\n",
    "            streakNumerator = 0\n",
    "    return float(streakCount)/testTimes\n",
    "\n",
    "print(streakCalculator(0.75,100000))\n",
    "print(streakCalculator(0.3,100000))\n",
    "    "
   ]
  },
  {
   "cell_type": "code",
   "execution_count": 13,
   "metadata": {},
   "outputs": [
    {
     "name": "stdout",
     "output_type": "stream",
     "text": [
      "0\n",
      "1\n",
      "2\n",
      "3\n",
      "4\n",
      "5\n",
      "6\n",
      "7\n",
      "8\n",
      "9\n"
     ]
    }
   ],
   "source": [
    "for i in range(0,10):\n",
    "    print(i)"
   ]
  },
  {
   "cell_type": "code",
   "execution_count": null,
   "metadata": {},
   "outputs": [],
   "source": []
  }
 ],
 "metadata": {
  "kernelspec": {
   "display_name": "Python 3",
   "language": "python",
   "name": "python3"
  },
  "language_info": {
   "codemirror_mode": {
    "name": "ipython",
    "version": 3
   },
   "file_extension": ".py",
   "mimetype": "text/x-python",
   "name": "python",
   "nbconvert_exporter": "python",
   "pygments_lexer": "ipython3",
   "version": "3.7.4"
  }
 },
 "nbformat": 4,
 "nbformat_minor": 4
}
