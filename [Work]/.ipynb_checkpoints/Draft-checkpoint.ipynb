{
 "cells": [
  {
   "cell_type": "code",
   "execution_count": 17,
   "metadata": {},
   "outputs": [
    {
     "name": "stdout",
     "output_type": "stream",
     "text": [
      "0.18297\n",
      "0.01938\n"
     ]
    }
   ],
   "source": [
    "import random\n",
    "\n",
    "testTimes = 100000\n",
    "winProb = 0.75\n",
    "mvpProb = 0.3\n",
    "\n",
    "def streakCalculator(winProbPara, testTimes):\n",
    "    streakCount = 0\n",
    "    streakNumerator = 0\n",
    "    for i in range(1,testTimes):\n",
    "        ranNum = random.random()\n",
    "#         print('ranNum:',end=\"\")\n",
    "#         print(ranNum)\n",
    "        if ranNum < winProbPara:\n",
    "            streakNumerator = streakNumerator + 1\n",
    "#             print('streakNumerator:',end=\"\")\n",
    "#             print(streakNumerator)\n",
    "            if streakNumerator == 3:\n",
    "                streakCount = streakCount + 1\n",
    "#                 print('streakCount:',end=\"\")\n",
    "#                 print(streakCount)\n",
    "                streakNumerator = 0\n",
    "        else:\n",
    "            streakNumerator = 0\n",
    "    return float(streakCount)/testTimes\n",
    "\n",
    "print(streakCalculator(0.75,100000))\n",
    "print(streakCalculator(0.3,100000))\n",
    "    "
   ]
  },
  {
   "cell_type": "code",
   "execution_count": 40,
   "metadata": {},
   "outputs": [
    {
     "name": "stdout",
     "output_type": "stream",
     "text": [
      "[0.1  0.25 0.5  0.75 0.9 ]\n",
      "[[ 0.1        32.255              nan         nan         nan         nan\n",
      "          nan         nan         nan         nan         nan]\n",
      " [ 0.25               nan 35.6375             nan         nan         nan\n",
      "          nan         nan         nan         nan         nan]\n",
      " [ 0.5                nan         nan 41.08333333         nan         nan\n",
      "          nan         nan         nan         nan         nan]\n",
      " [ 0.75               nan         nan         nan 46.20833333         nan\n",
      "          nan         nan         nan         nan         nan]\n",
      " [ 0.9                nan         nan         nan         nan 48.57\n",
      "          nan         nan         nan         nan         nan]]\n"
     ]
    }
   ],
   "source": [
    "import xlwings as xw\n",
    "import pandas as pd\n",
    "import numpy as np\n",
    "\n",
    "wb = xw.Book('./170数值/战斗得分统计.xlsx')\n",
    "\n",
    "srcSht = wb.sheets['统计汇总']\n",
    "resultSht = wb.sheets['计算结果']\n",
    "\n",
    "srcData = pd.read_excel('./170数值/战斗得分统计.xlsx', '统计汇总', index_col=None, na_values=['NA'])\n",
    "resultData = pd.read_excel('./170数值/战斗得分统计.xlsx', '计算结果', index_col=None, na_values=['NA'])\n",
    "\n",
    "resultArray = np.array(resultData)\n",
    "\n",
    "print(resultArray[:,0])\n",
    "\n",
    "rankList = [1, 2, 3, 4, 5, 6, 7, 8, 9, 10]\n",
    "\n",
    "rankCol = np.array(srcData['rank值'])\n",
    "meanScoreCol = np.array(srcData['场均分数'])\n",
    "\n",
    "rankScoreArray = np.column_stack((rankCol, meanScoreCol))\n",
    "\n",
    "for i in range(len(rankList)):\n",
    "\n",
    "    rankMask = np.in1d(rankScoreArray[:, 0], rankList[i])\n",
    "\n",
    "    scoreArray = rankScoreArray[rankMask]\n",
    "    \n",
    "    scoreCol = scoreArray[:, 1]\n",
    "    \n",
    "    for j in range(len(resultArray[:,0])):\n",
    "        resultArray[j, rankList[i]] = np.percentile(scoreCol, resultArray[j, 0])\n",
    "\n",
    "print(resultArray)"
   ]
  },
  {
   "cell_type": "code",
   "execution_count": null,
   "metadata": {},
   "outputs": [],
   "source": []
  }
 ],
 "metadata": {
  "kernelspec": {
   "display_name": "Python 3",
   "language": "python",
   "name": "python3"
  },
  "language_info": {
   "codemirror_mode": {
    "name": "ipython",
    "version": 3
   },
   "file_extension": ".py",
   "mimetype": "text/x-python",
   "name": "python",
   "nbconvert_exporter": "python",
   "pygments_lexer": "ipython3",
   "version": "3.7.4"
  }
 },
 "nbformat": 4,
 "nbformat_minor": 4
}
