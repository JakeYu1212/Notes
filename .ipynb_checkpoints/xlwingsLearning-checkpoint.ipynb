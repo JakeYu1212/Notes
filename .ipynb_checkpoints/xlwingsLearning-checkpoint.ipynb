{
 "cells": [
  {
   "cell_type": "markdown",
   "metadata": {},
   "source": [
    "# 基本操作"
   ]
  },
  {
   "cell_type": "code",
   "execution_count": 6,
   "metadata": {
    "collapsed": true
   },
   "outputs": [
    {
     "name": "stdout",
     "output_type": "stream",
     "text": [
      "模拟计算\n",
      "月活跃\n",
      "留存衰减曲线\n",
      "收入误差\n",
      "历史留存数据\n",
      "历史收入数据\n",
      "Test\n"
     ]
    }
   ],
   "source": [
    "import xlwings as xw\n",
    "import matplotlib.pyplot as plt\n",
    "import datetime as dt\n",
    "\n",
    "# 关联Book\n",
    "wb = xw.Book('./收入-DAU预估模型/收入预估.xlsx')\n",
    "\n",
    "# 选择某个Sheet，选中某个Sheet\n",
    "sht = wb.sheets['Test']\n",
    "sht.select()\n",
    "\n",
    "# 遍历Book中的所有Sheet\n",
    "for eachSht in wb.sheets:\n",
    "    print(eachSht.name)\n",
    "# print(type(wb.sheets))\n",
    "# print(type(sht))\n",
    "# print(wb.sheets[0].name)\n",
    "\n",
    "# 操作单元格\n",
    "# 通过A1B1格式调用\n",
    "sht.range('A1').value = 'A1'\n",
    "# 通过行数+列数格式调用\n",
    "sht.range((1,2)).value = 'B1'\n",
    "for i in range(1, 12):\n",
    "    sht.range((i,2)).value = dt.datetime(2019, i, 1)\n",
    "sht.range((1,1)).options(transpose = True).value = [1, 2, 3, 4, 5, 6, 7, 8, 9, 10]\n",
    "\n",
    "# 保存当前修改\n",
    "wb.save()\n",
    "\n",
    "# 关闭一个Book\n",
    "# wb.close()"
   ]
  },
  {
   "cell_type": "markdown",
   "metadata": {},
   "source": [
    "# 抽奖装备集齐模拟"
   ]
  },
  {
   "cell_type": "code",
   "execution_count": null,
   "metadata": {},
   "outputs": [],
   "source": [
    "import numpy as np\n",
    "import xlwings as xw\n",
    "import pandas as pd\n",
    "raw_data = pd.read_excel('抽奖概率表.xlsx', 'Prob', index_col=None, na_values=['NA'])\n",
    "# 需要知道的东西：列序号-列数值意义\n",
    "\n"
   ]
  },
  {
   "cell_type": "markdown",
   "metadata": {},
   "source": [
    "# 宝箱规划"
   ]
  },
  {
   "cell_type": "code",
   "execution_count": 90,
   "metadata": {},
   "outputs": [],
   "source": [
    "import xlwings as xw\n",
    "import pandas as pd\n",
    "import numpy as np\n",
    "\n",
    "wb = xw.Book('./宝箱填表.xlsx')\n",
    "\n",
    "srcSht = wb.sheets['数据源']\n",
    "dstSht = wb.sheets['数据导出']\n",
    "srcData = pd.read_excel('宝箱规划.xlsx', '数据源', index_col=None, na_values=['NA'])\n",
    "# srcData\n",
    "dropItem = np.array(srcData['掉落物'])\n",
    "chestName = np.array(srcData['宝箱名称'])\n",
    "dropWeight = np.array(srcData['掉落权重'])\n",
    "dropNum = np.array(srcData['掉落数量'])\n",
    "dropTimes = np.array(srcData['抽取次数'])\n",
    "\n",
    "def toArray(arrayName):\n",
    "    for i in range(len(arrayName)):\n",
    "        arrayName[i] = arrayName[i].replace('[','')\n",
    "        arrayName[i] = arrayName[i].replace(']','')\n",
    "        arrayName[i] = arrayName[i].replace('(','')\n",
    "        arrayName[i] = arrayName[i].replace(')','')\n",
    "        arrayName[i] = np.array(arrayName[i].split(','))\n",
    "        len(arrayName[i])\n",
    "        arrayName[i]\n",
    "\n",
    "toArray(dropItem)\n",
    "toArray(dropWeight)\n",
    "toArray(dropNum)\n",
    "sequalNo = 1\n",
    "\n",
    "dropNum1 = np.array(dropNum)\n",
    "dropNum2 = np.array(dropNum)\n",
    "\n",
    "def toOdd(arrayName):\n",
    "    for i in range(len(arrayName)):\n",
    "        if i % 2 == 0:\n",
    "            dropNum1.add(arrayName[i])\n",
    "\n",
    "def toEven(arrayName):\n",
    "    for i in range(len(arrayName)):\n",
    "        if i % 2 == 1:\n",
    "            dropNum1.add(arrayName[i])\n",
    "\n",
    "for i in range(len(dropNum)):\n",
    "    dropNum1[i] = dropNum1[i][::2]\n",
    "    dropNum2[i] = dropNum2[i][1::2]\n",
    "\n",
    "# dropNum1\n",
    "# dropNum2\n",
    "\n",
    "\n",
    "for i in range(len(dropItem)):\n",
    "    dstSht.range((sequalNo,2)).options(transpose = True).value = dropItem[i]\n",
    "    dstSht.range((sequalNo,3)).options(transpose = True).value = dropWeight[i]\n",
    "    chestName[i] = np.array(chestName[i])\n",
    "    chestName[i] = chestName[i].repeat(len(dropItem[i]))\n",
    "    dstSht.range((sequalNo,1)).options(transpose = True).value = chestName[i]\n",
    "    dstSht.range((sequalNo,4)).options(transpose = True).value = dropNum1[i]\n",
    "    dstSht.range((sequalNo,5)).options(transpose = True).value = dropNum2[i]\n",
    "    sequalNo = sequalNo + len(dropItem[i])"
   ]
  },
  {
   "cell_type": "code",
   "execution_count": null,
   "metadata": {},
   "outputs": [],
   "source": []
  }
 ],
 "metadata": {
  "kernelspec": {
   "display_name": "Python 3",
   "language": "python",
   "name": "python3"
  },
  "language_info": {
   "codemirror_mode": {
    "name": "ipython",
    "version": 3
   },
   "file_extension": ".py",
   "mimetype": "text/x-python",
   "name": "python",
   "nbconvert_exporter": "python",
   "pygments_lexer": "ipython3",
   "version": "3.6.6"
  },
  "toc": {
   "base_numbering": 1,
   "nav_menu": {
    "height": "158px",
    "width": "174px"
   },
   "number_sections": true,
   "sideBar": true,
   "skip_h1_title": false,
   "title_cell": "Table of Contents",
   "title_sidebar": "Contents",
   "toc_cell": false,
   "toc_position": {},
   "toc_section_display": true,
   "toc_window_display": false
  }
 },
 "nbformat": 4,
 "nbformat_minor": 2
}
