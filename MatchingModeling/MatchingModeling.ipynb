{
 "cells": [
  {
   "cell_type": "markdown",
   "source": [
    "## 整体算法概述"
   ],
   "metadata": {}
  },
  {
   "cell_type": "markdown",
   "source": [
    "通过DAU的值模拟，玩家在一定规则的匹配下，每局游戏中真人玩家数量的分布。\n",
    "\n",
    "输入参数：DAU、DAU玩家的段位分布、玩家国家分布、玩家睡觉时间、玩家游戏时间分布、玩家登录时间分布\n",
    "输出参数：每局游戏内真人玩家数量分布、全天总游戏局数"
   ],
   "metadata": {}
  },
  {
   "cell_type": "markdown",
   "source": [
    "## 各种类：玩家、房间"
   ],
   "metadata": {}
  },
  {
   "cell_type": "code",
   "execution_count": null,
   "source": [
    "import time\n",
    "\n",
    "class Player:\n",
    "    def __init__(self):\n",
    "    \n",
    "    def login(self,loginTime,playTime):\n",
    "        \n",
    "    def match(self,matchTime,waitingTime):\n",
    "\n",
    "        \n",
    "class Room:\n",
    "    def __init__(self):\n",
    "        \n",
    "    def create(self):\n",
    "    \n",
    "        \n",
    "\n",
    "        "
   ],
   "outputs": [],
   "metadata": {}
  },
  {
   "cell_type": "code",
   "execution_count": 2,
   "source": [
    "from sympy import *\n",
    "x = symbols('x')\n",
    "a = limit((1+1/x)**x, x, oo)\n",
    "x = 1\n",
    "b = (1 + 1/x)**x\n",
    "print(float(b))"
   ],
   "outputs": [
    {
     "output_type": "stream",
     "name": "stdout",
     "text": [
      "2.0\n"
     ]
    }
   ],
   "metadata": {
    "scrolled": true
   }
  },
  {
   "cell_type": "markdown",
   "source": [],
   "metadata": {}
  }
 ],
 "metadata": {
  "kernelspec": {
   "display_name": "Python 3",
   "language": "python",
   "name": "python3"
  },
  "language_info": {
   "codemirror_mode": {
    "name": "ipython",
    "version": 3
   },
   "file_extension": ".py",
   "mimetype": "text/x-python",
   "name": "python",
   "nbconvert_exporter": "python",
   "pygments_lexer": "ipython3",
   "version": "3.7.3"
  },
  "toc": {
   "base_numbering": 1,
   "nav_menu": {
    "height": "83px",
    "width": "193px"
   },
   "number_sections": true,
   "sideBar": true,
   "skip_h1_title": false,
   "title_cell": "Table of Contents",
   "title_sidebar": "Contents",
   "toc_cell": false,
   "toc_position": {},
   "toc_section_display": true,
   "toc_window_display": false
  },
  "widgets": {
   "application/vnd.jupyter.widget-state+json": {
    "state": {},
    "version_major": 2,
    "version_minor": 0
   }
  }
 },
 "nbformat": 4,
 "nbformat_minor": 2
}