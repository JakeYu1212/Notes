{
 "cells": [
  {
   "cell_type": "markdown",
   "id": "798a7538",
   "metadata": {
    "toc": true
   },
   "source": [
    "<h1>Table of Contents<span class=\"tocSkip\"></span></h1>\n",
    "<div class=\"toc\"><ul class=\"toc-item\"><li><span><a href=\"#Hetero-Coupon-Collecting-Problem\" data-toc-modified-id=\"Hetero-Coupon-Collecting-Problem-1\"><span class=\"toc-item-num\">1&nbsp;&nbsp;</span>Hetero Coupon Collecting Problem</a></span></li></ul></div>"
   ]
  },
  {
   "cell_type": "markdown",
   "id": "26514ce1",
   "metadata": {},
   "source": [
    "# Hetero Coupon Collecting Problem"
   ]
  },
  {
   "cell_type": "code",
   "execution_count": 22,
   "id": "c5345e5b",
   "metadata": {
    "scrolled": true
   },
   "outputs": [
    {
     "data": {
      "text/plain": [
       "0      10\n",
       "1      10\n",
       "2      10\n",
       "3      10\n",
       "4       5\n",
       "5     100\n",
       "6     200\n",
       "7     200\n",
       "8     300\n",
       "9     400\n",
       "10    400\n",
       "11    400\n",
       "12    400\n",
       "13    400\n",
       "14    400\n",
       "15    400\n",
       "16    400\n",
       "17    400\n",
       "Name: 概率权重, dtype: int64"
      ]
     },
     "execution_count": 22,
     "metadata": {},
     "output_type": "execute_result"
    }
   ],
   "source": [
    "import xlwings as xw\n",
    "import pandas as pd\n",
    "\n",
    "wb = xw.Book('./Hetero Coupon Collect Problem/抽奖概率表.xlsx')\n",
    "\n",
    "sht = wb.sheets['Prob']\n",
    "\n",
    "raw_data = pd.read_excel('./Hetero Coupon Collect Problem/抽奖概率表.xlsx', 'Prob', index_col=None, na_values=['NA'])\n",
    "\n",
    "probList = raw_data['概率权重']\n",
    "probList\n",
    "\n",
    "\n",
    "\n",
    "\n",
    "# probTable = sht.range('A1').expand('table')\n",
    "# probTable.value\n",
    "\n"
   ]
  },
  {
   "cell_type": "code",
   "execution_count": null,
   "id": "18d78ce9",
   "metadata": {},
   "outputs": [],
   "source": []
  }
 ],
 "metadata": {
  "kernelspec": {
   "display_name": "Python 3 (ipykernel)",
   "language": "python",
   "name": "python3"
  },
  "language_info": {
   "codemirror_mode": {
    "name": "ipython",
    "version": 3
   },
   "file_extension": ".py",
   "mimetype": "text/x-python",
   "name": "python",
   "nbconvert_exporter": "python",
   "pygments_lexer": "ipython3",
   "version": "3.9.7"
  },
  "toc": {
   "base_numbering": 1,
   "nav_menu": {
    "height": "115px",
    "width": "250px"
   },
   "number_sections": true,
   "sideBar": true,
   "skip_h1_title": false,
   "title_cell": "Table of Contents",
   "title_sidebar": "Contents",
   "toc_cell": true,
   "toc_position": {},
   "toc_section_display": true,
   "toc_window_display": false
  }
 },
 "nbformat": 4,
 "nbformat_minor": 5
}
