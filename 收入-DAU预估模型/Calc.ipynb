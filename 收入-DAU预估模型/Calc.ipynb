{
 "cells": [
  {
   "cell_type": "markdown",
   "metadata": {},
   "source": [
    "# 计算DAU&MAU"
   ]
  },
  {
   "cell_type": "code",
   "execution_count": 16,
   "metadata": {},
   "outputs": [
    {
     "name": "stdout",
     "output_type": "stream",
     "text": [
      "[3 3 3 3 3 3 3 3 3 3 3 3 3 3 3 3 3 3 3 3 3 3 3 3 3 3 3 3 3 3 3 3 3 3 3 3 3\n",
      " 3 3 3 3 3 3 3 3 3 3 3 3 3 3 3 3 3 3 3 3 3 3 3 3 3 3 3 3 3 3 3 3 3 3 3 3 3\n",
      " 3 3 3 3 3 3 3 3 3 3 3 3 3 3 3 3 3 3 3 3 3 3 3 3 3 3 3 3 3 3 3 3 3 3 3 3 3\n",
      " 3 3 3 3 3 3 3 3 3 3 3 3 3 3 3 3 3 3 3 3 3 3 3 3 3 3 3 3 3 3 3 3 3 3 3 3 3\n",
      " 3 3 3 3 3 3 3 3 3 3 3 3 3 3 3 3 3 3 3 3 3 3 3 3 3 3 3 3 3 3 3 3 3 3 3 3 3\n",
      " 3 3 3 3 3 3 3 3 3 3 3 3 3 3 3 3 3 3 3 3 3 3 3 3 3 3 3 3 3 3 3 3 3 3 3 3 3\n",
      " 3 3 3 3 3 3 3 3 3 3 3 3 3 3 3 3 3 3 3 3 3 3 3 3 3 3 3 3 3 3 3 3 3 3 3 3 3\n",
      " 3 3 3 3 3 3 3 3 3 3 3 3 3 3 3 3 3 3 3 3 3 3 3 3 3 3 3 3 3 3 3 3 3 3 3 3 3\n",
      " 3 3 3 3 3 3 3 3 3 3 3 3 3 3 3 3 3 3 3 3 3 3 3 3 3 3 3 3 3 3 3 3 3 3 3 3 3\n",
      " 3 3 3]\n"
     ]
    }
   ],
   "source": [
    "import numpy as np\n",
    "import xlwings as xw\n",
    "import pandas as pd\n",
    "from datetime import datetime, date, time\n",
    "\n",
    "def caculate_dau(excel_file_name):\n",
    "\n",
    "    wb = xw.Book(excel_file_name)\n",
    "\n",
    "    main_data = pd.read_excel(excel_file_name, '模拟计算', index_col=None, na_values=['NA'])\n",
    "    retain_data = pd.read_excel(excel_file_name, '留存衰减曲线', index_col=None, na_values=['NA'])\n",
    "    date_series = np.array(main_data['日期'])\n",
    "    new_users = np.array(main_data['新注册'])\n",
    "    retain_curve = np.array(main_data['留存曲线'])\n",
    "\n",
    "    day_num = len(date_series)\n",
    "    estimate_dau = np.array([0.0] * day_num)\n",
    "    \n",
    "    print(retain_curve)\n",
    "\n",
    "    for i in range(day_num):\n",
    "        retain_series = np.array(retain_data['Rate' + str(retain_curve[i])])[0:i+1]\n",
    "        retain_series_invert = retain_series[::-1]\n",
    "        retain_num = new_users[0:i+1] * retain_series_invert\n",
    "        estimate_dau[i] = retain_num.sum()\n",
    "\n",
    "    title = '预估DAU[' + str(date.today()) + ']'\n",
    "    wb.sheets[0].range('D1').value = title\n",
    "    wb.sheets[0].range('D2').options(transpose=True).value = estimate_dau\n",
    "\n",
    "\n",
    "def caculate_monthday(indatetime):\n",
    "    if indatetime.month < 12:\n",
    "        a = datetime.combine(date(indatetime.year, indatetime.month, 1), indatetime.time())\n",
    "        b = datetime.combine(date(indatetime.year, indatetime.month + 1, 1), indatetime.time())\n",
    "        return (b - a).days\n",
    "    else:\n",
    "        return 31\n",
    "\n",
    "\n",
    "def caculate_mau(excel_file_name):\n",
    "\n",
    "    wb = xw.Book(excel_file_name)\n",
    "\n",
    "    main_data = pd.read_excel(excel_file_name, '模拟计算', index_col=None, na_values=['NA'])\n",
    "    retain_data = pd.read_excel(excel_file_name, '留存衰减曲线', index_col=None, na_values=['NA'])\n",
    "    date_series = np.array(main_data['日期'])\n",
    "    new_users = np.array(main_data['新注册'])\n",
    "    retain_type = np.array(main_data['留存曲线'])\n",
    "\n",
    "    # count all the month\n",
    "    month_series = np.arange(date_series[0], date_series[len(date_series) - 1], dtype='datetime64[M]')\n",
    "    month_series_datetime = pd.to_datetime(month_series)\n",
    "    date_series_datetime = pd.to_datetime(date_series)\n",
    "    day_num = len(date_series)\n",
    "    month_num = len(month_series_datetime)\n",
    "    estimate_mau = np.array([0.0] * month_num)\n",
    "\n",
    "    # This method misses the players that did not login at 2nd day, but login at 3rd day or later, so the mau will be less, but the error is torable\n",
    "    for i in range(month_num):\n",
    "        for j in range(day_num):\n",
    "            if datetime.date(date_series_datetime[j]).replace(day=1) > datetime.date(month_series_datetime[i]).replace(day=1):\n",
    "                break\n",
    "            if datetime.date(date_series_datetime[j]).replace(day=1) < datetime.date(month_series_datetime[i]).replace(day=1):\n",
    "                retain_type_j = retain_type[j]\n",
    "                retain_daynum = (month_series_datetime[i] - date_series_datetime[j]).days\n",
    "                retain_rate = retain_data['Rate' + str(retain_type_j)][retain_daynum]\n",
    "                estimate_mau[i] = estimate_mau[i] + new_users[j] * retain_rate\n",
    "            if datetime.date(date_series_datetime[j]).replace(day=1) == datetime.date(month_series_datetime[i]).replace(day=1):\n",
    "                estimate_mau[i] = estimate_mau[i] + new_users[j]\n",
    "        \n",
    "        wb.sheets['月活跃'].range('A2').options(transpose=True).value = month_series\n",
    "        wb.sheets['月活跃'].range('B2').options(transpose=True).value = estimate_mau\n",
    "\n",
    "\n",
    "caculate_dau('收入预估.xlsx')\n",
    "# caculate# _mau('收入预估.xlsx')\n"
   ]
  },
  {
   "cell_type": "code",
   "execution_count": null,
   "metadata": {},
   "outputs": [],
   "source": []
  }
 ],
 "metadata": {
  "kernelspec": {
   "display_name": "Python 3",
   "language": "python",
   "name": "python3"
  },
  "language_info": {
   "codemirror_mode": {
    "name": "ipython",
    "version": 3
   },
   "file_extension": ".py",
   "mimetype": "text/x-python",
   "name": "python",
   "nbconvert_exporter": "python",
   "pygments_lexer": "ipython3",
   "version": "3.6.6"
  },
  "toc": {
   "base_numbering": 1,
   "nav_menu": {
    "height": "64px",
    "width": "194px"
   },
   "number_sections": true,
   "sideBar": true,
   "skip_h1_title": false,
   "title_cell": "Table of Contents",
   "title_sidebar": "Contents",
   "toc_cell": false,
   "toc_position": {},
   "toc_section_display": true,
   "toc_window_display": false
  }
 },
 "nbformat": 4,
 "nbformat_minor": 2
}
