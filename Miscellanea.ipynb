{
 "cells": [
  {
   "cell_type": "code",
   "execution_count": 51,
   "metadata": {},
   "outputs": [
    {
     "name": "stdout",
     "output_type": "stream",
     "text": [
      "2044.1469\n"
     ]
    }
   ],
   "source": [
    "# 模拟计算：掷100次硬币，出现连续10次或以上的概率是多少?\n",
    "# 变体：100个关卡，连胜10场算通关，每关胜率50%，通关概率是多少？\n",
    "def winStreak(totalNum, streakNum, winRatio, drawRatio):\n",
    "    i = 1\n",
    "    streakSerial = 0\n",
    "    for i in range(totalNum):\n",
    "        winVal = random.random()\n",
    "        if winVal <= winRatio:\n",
    "            isWin = 1\n",
    "            streakSerial = streakSerial + 1\n",
    "        else:\n",
    "            isWin = 0\n",
    "            streakSerial = 0\n",
    "#         print(\"winVal=\", winVal,\"isWin=\", isWin)\n",
    "        if streakSerial == streakNum:\n",
    "            return 1\n",
    "    return 0\n",
    "\n",
    "winStreakNum = 0\n",
    "# for i in range(1000000):\n",
    "#     winStreakNum = winStreakNum + winStreak(100, 10, 0.5, 0)\n",
    "# print(winStreakNum/1000000)\n",
    "\n",
    "def winStreakExpectation(streakNum, winRatio, drawRatio):\n",
    "    i = 1\n",
    "    streakSerial = 0\n",
    "    while streakSerial < streakNum:\n",
    "        winNum = random.random()\n",
    "        if winNum <= winRatio:\n",
    "            isWin = 1\n",
    "            streakSerial = streakSerial + 1\n",
    "        else:\n",
    "            isWin = 0\n",
    "            streakSerial = 0\n",
    "#         print(\"winNum=\", winNum,\"isWin=\", isWin)\n",
    "        if streakSerial == streakNum:\n",
    "            return i\n",
    "        i = i + 1\n",
    "\n",
    "total = 0\n",
    "for i in range(10000):\n",
    "    total = total + winStreakExpectation(10, 0.5, 0)\n",
    "    Expectation = total/10000\n",
    "print(Expectation)"
   ]
  },
  {
   "cell_type": "code",
   "execution_count": 40,
   "metadata": {},
   "outputs": [
    {
     "data": {
      "text/plain": [
       "24"
      ]
     },
     "execution_count": 40,
     "metadata": {},
     "output_type": "execute_result"
    }
   ],
   "source": [
    "import random\n",
    "\n",
    "random.randint(1,100)"
   ]
  },
  {
   "cell_type": "code",
   "execution_count": 18,
   "metadata": {},
   "outputs": [
    {
     "data": {
      "text/plain": [
       "0.4900980486407216"
      ]
     },
     "execution_count": 18,
     "metadata": {},
     "output_type": "execute_result"
    }
   ],
   "source": [
    "from math import *\n",
    "\n",
    "class character:\n",
    "    def __init__(self, pos, atk, hpRatio):\n",
    "        self.pos = pos\n",
    "        self.atk = atk\n",
    "        self.hpRatio = hpRatio\n",
    "\n",
    "class protag(character):\n",
    "    def __init__(self, pos, atk, hpRatio):\n",
    "        character.__init__(self, pos, atk, hpRatio)\n",
    "        \n",
    "class enemy(character):\n",
    "    def __init__(self, pos, atk, hpRatio):\n",
    "        character.__init__(self, pos, atk, hpRatio)\n",
    "    def protag_dis(self, protag):\n",
    "        diff_x = self.pos[0] - protag.pos[0]\n",
    "        diff_y = self.pos[1] - protag.pos[1]\n",
    "        return sqrt(diff_x * diff_x + diff_y * diff_y)\n",
    "    def threatInterest(self, protag):\n",
    "        threat = max(1 - self.protag_dis(protag) / 20 * 2, 0)\n",
    "        return threat\n",
    "        \n",
    "enemy1 = enemy([1,5], 10, 0.1)\n",
    "protag = protag([0,0], 10, 0.1)\n",
    "enemy1.threatInterest(protag)\n",
    "# print(character1.get_atk())\n",
    "\n",
    "        "
   ]
  },
  {
   "cell_type": "code",
   "execution_count": 9,
   "metadata": {},
   "outputs": [
    {
     "data": {
      "text/plain": [
       "1.4142135623730951"
      ]
     },
     "execution_count": 9,
     "metadata": {},
     "output_type": "execute_result"
    }
   ],
   "source": [
    "from math import *\n",
    "sqrt(2)"
   ]
  },
  {
   "cell_type": "code",
   "execution_count": null,
   "metadata": {},
   "outputs": [],
   "source": []
  }
 ],
 "metadata": {
  "kernelspec": {
   "display_name": "Python 3",
   "language": "python",
   "name": "python3"
  },
  "language_info": {
   "codemirror_mode": {
    "name": "ipython",
    "version": 3
   },
   "file_extension": ".py",
   "mimetype": "text/x-python",
   "name": "python",
   "nbconvert_exporter": "python",
   "pygments_lexer": "ipython3",
   "version": "3.7.3"
  },
  "toc": {
   "base_numbering": 1,
   "nav_menu": {
    "height": "90px",
    "width": "211px"
   },
   "number_sections": true,
   "sideBar": true,
   "skip_h1_title": false,
   "title_cell": "Table of Contents",
   "title_sidebar": "Contents",
   "toc_cell": false,
   "toc_position": {},
   "toc_section_display": true,
   "toc_window_display": false
  }
 },
 "nbformat": 4,
 "nbformat_minor": 2
}
