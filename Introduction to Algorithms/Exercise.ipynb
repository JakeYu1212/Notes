{
 "cells": [
  {
   "cell_type": "markdown",
   "metadata": {},
   "source": [
    "#  Miscellane"
   ]
  },
  {
   "cell_type": "code",
   "execution_count": 1,
   "metadata": {},
   "outputs": [
    {
     "name": "stdout",
     "output_type": "stream",
     "text": [
      "False\n"
     ]
    }
   ],
   "source": [
    "print(5==10)"
   ]
  },
  {
   "cell_type": "code",
   "execution_count": 11,
   "metadata": {},
   "outputs": [
    {
     "data": {
      "text/plain": [
       "['i', 6, 1, 2, 3, 4, 5]"
      ]
     },
     "execution_count": 11,
     "metadata": {},
     "output_type": "execute_result"
    }
   ],
   "source": [
    "mylist = [6,1,2,3,4,5]\n",
    "mylist.insert(0,\"i\")\n",
    "mylist"
   ]
  },
  {
   "cell_type": "code",
   "execution_count": 14,
   "metadata": {},
   "outputs": [
    {
     "data": {
      "text/plain": [
       "'exploration'"
      ]
     },
     "execution_count": 14,
     "metadata": {},
     "output_type": "execute_result"
    }
   ],
   "source": [
    "astring = \"exploration\"\n",
    "bstring = astring.ljust(4)\n",
    "bstring"
   ]
  },
  {
   "cell_type": "code",
   "execution_count": 24,
   "metadata": {},
   "outputs": [
    {
     "name": "stdout",
     "output_type": "stream",
     "text": [
      "Please enter your name jake\n",
      "Please enter your age18\n",
      "jake is 18 years old.\n"
     ]
    }
   ],
   "source": [
    "aName = input(\"Please enter your name \")\n",
    "age = int(input(\"Please enter your age\"))\n",
    "type(age)\n",
    "print(\"%s is %d years old.\" %(aName, age))"
   ]
  },
  {
   "cell_type": "code",
   "execution_count": 26,
   "metadata": {},
   "outputs": [
    {
     "name": "stdout",
     "output_type": "stream",
     "text": [
      "Hello world!\n",
      "Hello world!\n",
      "Hello world!\n",
      "Hello world!\n",
      "Hello world!\n"
     ]
    }
   ],
   "source": [
    "counter = 1\n",
    "while counter <= 5:\n",
    "    print(\"Hello world!\")\n",
    "    counter = counter + 1"
   ]
  },
  {
   "cell_type": "markdown",
   "metadata": {},
   "source": [
    "# Class Fraction"
   ]
  },
  {
   "cell_type": "code",
   "execution_count": 41,
   "metadata": {},
   "outputs": [
    {
     "name": "stdout",
     "output_type": "stream",
     "text": [
      "True\n"
     ]
    }
   ],
   "source": [
    "def gcd(m, n):\n",
    "    while m % n != 0:\n",
    "        oldm = m\n",
    "        oldn = n\n",
    "        \n",
    "        m = oldn\n",
    "        n = oldm % oldn\n",
    "        \n",
    "    return n\n",
    "\n",
    "# print(gcd(15,3))\n",
    "    \n",
    "class Fraction:\n",
    "    \n",
    "    def __init__(self, top, bottom):\n",
    "        self.num = top\n",
    "        self.den = bottom\n",
    "        \n",
    "    def __str__(self):\n",
    "        return str(self.num) + \"/\" + str(self.den)\n",
    "    \n",
    "    def __add__(self, otherFraction):\n",
    "        newnum = self.num * otherFraction.den + self.den * otherFraction.num\n",
    "        newden = self.den * otherFraction.den\n",
    "        common = gcd(newnum, newden)\n",
    "        \n",
    "        return Fraction(newnum // common, newden // common)\n",
    "    \n",
    "    def __eq__(self, otherFraction):\n",
    "        firstnum = self.num * otherFraction.den\n",
    "        secondnum = self.den * otherFraction.num\n",
    "        \n",
    "        return firstnum == secondnum\n",
    "    \n",
    "    def __sub__(self, otherFraction):\n",
    "        newnum = self.num * otherFraction.den - self.den * otherFraction.num\n",
    "        newden = self.den * otherFraction.den\n",
    "        common = gcd(newnum, newden)\n",
    "        \n",
    "        return Fraction(newnum // common, newden // common)\n",
    "    \n",
    "    def __mul__(self, otherFraction):\n",
    "        newnum = self.num * otherFraction.num\n",
    "        newden = self.den * otherFraction.den\n",
    "        common = gcd(newnum, newden)\n",
    "        \n",
    "        return Fraction(newnum // common, newden // common)\n",
    "    \n",
    "    def __truediv__(self, otherFraction):\n",
    "        newnum = self.num * otherFraction.den\n",
    "        newden = self.den * otherFraction.num\n",
    "        common = gcd(newnum, newden)\n",
    "        \n",
    "        return Fraction(newnum // common, newden // common)\n",
    "    \n",
    "#     def __lt__(self, otherFraction):\n",
    "#         firstnum = self.num * otherFraction.den\n",
    "#         secondnum = self.den * otherFraction.num\n",
    "        \n",
    "#         return firstnum < secondnum\n",
    "    \n",
    "    def __gt__(self, otherFraction):\n",
    "        firstnum = self.num * otherFraction.den\n",
    "        secondnum = self.den * otherFraction.num\n",
    "        \n",
    "        return firstnum > secondnum\n",
    "\n",
    "\n",
    "    \n",
    "    def show(self):\n",
    "        print(self.num, \"/\", self.den)\n",
    "\n",
    "f1 = Fraction(4,5)\n",
    "f2 = Fraction(9,15)\n",
    "\n",
    "f1 == f2\n",
    "\n",
    "print(f1 > f2)\n",
    "\n",
    "        "
   ]
  },
  {
   "cell_type": "markdown",
   "metadata": {},
   "source": [
    "# Class Gate"
   ]
  },
  {
   "cell_type": "code",
   "execution_count": 47,
   "metadata": {},
   "outputs": [
    {
     "name": "stdout",
     "output_type": "stream",
     "text": [
      "Enter pinA input for GateG2-->0\n",
      "Enter pinB input for GateG2-->0\n"
     ]
    },
    {
     "data": {
      "text/plain": [
       "0"
      ]
     },
     "execution_count": 47,
     "metadata": {},
     "output_type": "execute_result"
    }
   ],
   "source": [
    "class LogicGate:\n",
    "    def __init__(self, n):\n",
    "        self.label = n\n",
    "        self.output = None\n",
    "    \n",
    "    def getLabel(self):\n",
    "        return self.label\n",
    "    \n",
    "    def getOutput(self):\n",
    "        self.output = self.performGateLogic()\n",
    "        return self.output\n",
    "    \n",
    "class BinaryGate(LogicGate):\n",
    "    def __init__(self, n):\n",
    "        LogicGate.__init__(self, n)\n",
    "        \n",
    "        self.pinA = None\n",
    "        self.pinB = None\n",
    "        \n",
    "    def getPinA(self):\n",
    "        return int(input(\"Enter pinA input for Gate\" + self.getLabel() + \"-->\"))\n",
    "    \n",
    "    def getPinB(self):\n",
    "        return int(input(\"Enter pinB input for Gate\" + self.getLabel() + \"-->\"))\n",
    "\n",
    "class UnaryGate(LogicGate):\n",
    "    def __init__(self, n):\n",
    "        LogicGate.__init__(self, n)\n",
    "        \n",
    "        self.pin = None\n",
    "    \n",
    "    def getPin(self):\n",
    "        return int(input(\"Enter pin input for Gate\" + self.getLabel() + \"-->\"))\n",
    "    \n",
    "class AndGate(BinaryGate):\n",
    "    def __init__(self, n):\n",
    "        BinaryGate.__init__(self, n)\n",
    "        \n",
    "    def performGateLogic(self):\n",
    "        a = self.getPinA()\n",
    "        b = self.getPinB()\n",
    "        if a == 1 and b == 1:\n",
    "            return 1\n",
    "        else:\n",
    "            return 0\n",
    "\n",
    "class OrGate(BinaryGate):\n",
    "    def __init__(self, n):\n",
    "        BinaryGate.__init__(self, n)\n",
    "        \n",
    "    def performGateLogic(self):\n",
    "        a = self.getPinA()\n",
    "        b = self.getPinB()\n",
    "        if a == 1 or b == 1:\n",
    "            return 1\n",
    "        else:\n",
    "            return 0\n",
    "\n",
    "class NorGate(BinaryGate):\n",
    "    def __init__(self, n):\n",
    "        BinaryGate.__init__(self, n)\n",
    "        \n",
    "    def performGateLogic(self):\n",
    "        a = self.getPinA()\n",
    "        b = self.getPinB()\n",
    "        if a == 1 or b == 1:\n",
    "            return 0\n",
    "        else:\n",
    "            return 1\n",
    "\n",
    "class NandGate(BinaryGate):\n",
    "    def __init__(self, n):\n",
    "        BinaryGate.__init__(self, n)\n",
    "        \n",
    "    def performGateLogic(self):\n",
    "        a = self.getPinA()\n",
    "        b = self.getPinB()\n",
    "        if a == 1 and b == 1:\n",
    "            return 0\n",
    "        else:\n",
    "            return 1\n",
    "\n",
    "\n",
    "\n",
    "# g1 = AndGate(\"G1\")\n",
    "# g1.getOutput()\n",
    "g2 = OrGate(\"G2\")\n",
    "g2.getOutput()\n",
    "\n",
    "        \n",
    "        "
   ]
  },
  {
   "cell_type": "markdown",
   "metadata": {},
   "source": [
    "# MSDie Class"
   ]
  },
  {
   "cell_type": "code",
   "execution_count": 10,
   "metadata": {},
   "outputs": [
    {
     "data": {
      "text/plain": [
       "<__main__.MSDie at 0x105bea400>"
      ]
     },
     "execution_count": 10,
     "metadata": {},
     "output_type": "execute_result"
    }
   ],
   "source": [
    "import random\n",
    "\n",
    "class MSDie:\n",
    "    \"\"\"\n",
    "    Multi-sided die\n",
    "    Instance Variables:\n",
    "        current_value\n",
    "        num_sides\n",
    "    \"\"\"\n",
    "    def __init__(self, num_sides):\n",
    "        self.num_sides = num_sides\n",
    "        self.current_value = self.roll()\n",
    "        \n",
    "    def roll(self):\n",
    "        self.current_value = random.randrange(1, self.num_sides + 1)\n",
    "        return self.current_value\n",
    "    \n",
    "    def __str__(self):\n",
    "        return str(self.current_value)\n",
    "    \n",
    "    def __repr__(self):\n",
    "        return \"MSDie({}) : {}\".format(self.num_sides, self.current_value)\n",
    "    \n",
    "my_die = MSDie(6)\n",
    "\n",
    "my_die.roll()\n",
    "d_list = [MSDie(6), MSDie(20)]\n",
    "MSDie(6)\n",
    "   "
   ]
  },
  {
   "cell_type": "code",
   "execution_count": 4,
   "metadata": {},
   "outputs": [
    {
     "name": "stdout",
     "output_type": "stream",
     "text": [
      "(50000005000000, 0.6281850337982178)\n",
      "(50000005000000.0, 9.5367431640625e-07)\n"
     ]
    }
   ],
   "source": [
    "import time\n",
    "\n",
    "def sumOfN2(n):\n",
    "   start = time.time()\n",
    "\n",
    "   theSum = 0\n",
    "   for i in range(1,n+1):\n",
    "      theSum = theSum + i\n",
    "\n",
    "   end = time.time()\n",
    "\n",
    "   return theSum,end-start\n",
    "\n",
    "def sumOfN3(n):\n",
    "    start = time.time()\n",
    "    \n",
    "    theSum = (n*(n+1))/2\n",
    "    \n",
    "    end = time.time()\n",
    "    \n",
    "    return theSum, end-start\n",
    "\n",
    "print(sumOfN2(10000000))\n",
    "print(sumOfN3(10000000))\n",
    "\n"
   ]
  },
  {
   "cell_type": "code",
   "execution_count": null,
   "metadata": {},
   "outputs": [],
   "source": []
  }
 ],
 "metadata": {
  "kernelspec": {
   "display_name": "Python 3",
   "language": "python",
   "name": "python3"
  },
  "language_info": {
   "codemirror_mode": {
    "name": "ipython",
    "version": 3
   },
   "file_extension": ".py",
   "mimetype": "text/x-python",
   "name": "python",
   "nbconvert_exporter": "python",
   "pygments_lexer": "ipython3",
   "version": "3.7.3"
  },
  "toc": {
   "base_numbering": 1,
   "nav_menu": {
    "height": "91px",
    "width": "167px"
   },
   "number_sections": true,
   "sideBar": true,
   "skip_h1_title": false,
   "title_cell": "Table of Contents",
   "title_sidebar": "Contents",
   "toc_cell": false,
   "toc_position": {},
   "toc_section_display": true,
   "toc_window_display": false
  }
 },
 "nbformat": 4,
 "nbformat_minor": 2
}
