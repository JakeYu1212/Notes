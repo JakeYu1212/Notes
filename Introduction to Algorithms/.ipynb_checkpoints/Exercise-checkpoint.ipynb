{
 "cells": [
  {
   "cell_type": "markdown",
   "metadata": {},
   "source": [
    "#  Miscellane"
   ]
  },
  {
   "cell_type": "code",
   "execution_count": 1,
   "metadata": {},
   "outputs": [
    {
     "name": "stdout",
     "output_type": "stream",
     "text": [
      "False\n"
     ]
    }
   ],
   "source": [
    "print(5==10)"
   ]
  },
  {
   "cell_type": "code",
   "execution_count": 11,
   "metadata": {},
   "outputs": [
    {
     "data": {
      "text/plain": [
       "['i', 6, 1, 2, 3, 4, 5]"
      ]
     },
     "execution_count": 11,
     "metadata": {},
     "output_type": "execute_result"
    }
   ],
   "source": [
    "mylist = [6,1,2,3,4,5]\n",
    "mylist.insert(0,\"i\")\n",
    "mylist"
   ]
  },
  {
   "cell_type": "code",
   "execution_count": 14,
   "metadata": {},
   "outputs": [
    {
     "data": {
      "text/plain": [
       "'exploration'"
      ]
     },
     "execution_count": 14,
     "metadata": {},
     "output_type": "execute_result"
    }
   ],
   "source": [
    "astring = \"exploration\"\n",
    "bstring = astring.ljust(4)\n",
    "bstring"
   ]
  },
  {
   "cell_type": "code",
   "execution_count": 24,
   "metadata": {},
   "outputs": [
    {
     "name": "stdout",
     "output_type": "stream",
     "text": [
      "Please enter your name jake\n",
      "Please enter your age18\n",
      "jake is 18 years old.\n"
     ]
    }
   ],
   "source": [
    "aName = input(\"Please enter your name \")\n",
    "age = int(input(\"Please enter your age\"))\n",
    "type(age)\n",
    "print(\"%s is %d years old.\" %(aName, age))"
   ]
  },
  {
   "cell_type": "code",
   "execution_count": 26,
   "metadata": {},
   "outputs": [
    {
     "name": "stdout",
     "output_type": "stream",
     "text": [
      "Hello world!\n",
      "Hello world!\n",
      "Hello world!\n",
      "Hello world!\n",
      "Hello world!\n"
     ]
    }
   ],
   "source": [
    "counter = 1\n",
    "while counter <= 5:\n",
    "    print(\"Hello world!\")\n",
    "    counter = counter + 1"
   ]
  },
  {
   "cell_type": "markdown",
   "metadata": {},
   "source": [
    "# Class Fraction"
   ]
  },
  {
   "cell_type": "code",
   "execution_count": 41,
   "metadata": {},
   "outputs": [
    {
     "name": "stdout",
     "output_type": "stream",
     "text": [
      "True\n"
     ]
    }
   ],
   "source": [
    "def gcd(m, n):\n",
    "    while m % n != 0:\n",
    "        oldm = m\n",
    "        oldn = n\n",
    "        \n",
    "        m = oldn\n",
    "        n = oldm % oldn\n",
    "        \n",
    "    return n\n",
    "\n",
    "# print(gcd(15,3))\n",
    "    \n",
    "class Fraction:\n",
    "    \n",
    "    def __init__(self, top, bottom):\n",
    "        self.num = top\n",
    "        self.den = bottom\n",
    "        \n",
    "    def __str__(self):\n",
    "        return str(self.num) + \"/\" + str(self.den)\n",
    "    \n",
    "    def __add__(self, otherFraction):\n",
    "        newnum = self.num * otherFraction.den + self.den * otherFraction.num\n",
    "        newden = self.den * otherFraction.den\n",
    "        common = gcd(newnum, newden)\n",
    "        \n",
    "        return Fraction(newnum // common, newden // common)\n",
    "    \n",
    "    def __eq__(self, otherFraction):\n",
    "        firstnum = self.num * otherFraction.den\n",
    "        secondnum = self.den * otherFraction.num\n",
    "        \n",
    "        return firstnum == secondnum\n",
    "    \n",
    "    def __sub__(self, otherFraction):\n",
    "        newnum = self.num * otherFraction.den - self.den * otherFraction.num\n",
    "        newden = self.den * otherFraction.den\n",
    "        common = gcd(newnum, newden)\n",
    "        \n",
    "        return Fraction(newnum // common, newden // common)\n",
    "    \n",
    "    def __mul__(self, otherFraction):\n",
    "        newnum = self.num * otherFraction.num\n",
    "        newden = self.den * otherFraction.den\n",
    "        common = gcd(newnum, newden)\n",
    "        \n",
    "        return Fraction(newnum // common, newden // common)\n",
    "    \n",
    "    def __truediv__(self, otherFraction):\n",
    "        newnum = self.num * otherFraction.den\n",
    "        newden = self.den * otherFraction.num\n",
    "        common = gcd(newnum, newden)\n",
    "        \n",
    "        return Fraction(newnum // common, newden // common)\n",
    "    \n",
    "#     def __lt__(self, otherFraction):\n",
    "#         firstnum = self.num * otherFraction.den\n",
    "#         secondnum = self.den * otherFraction.num\n",
    "        \n",
    "#         return firstnum < secondnum\n",
    "    \n",
    "    def __gt__(self, otherFraction):\n",
    "        firstnum = self.num * otherFraction.den\n",
    "        secondnum = self.den * otherFraction.num\n",
    "        \n",
    "        return firstnum > secondnum\n",
    "\n",
    "\n",
    "    \n",
    "    def show(self):\n",
    "        print(self.num, \"/\", self.den)\n",
    "\n",
    "f1 = Fraction(4,5)\n",
    "f2 = Fraction(9,15)\n",
    "\n",
    "f1 == f2\n",
    "\n",
    "print(f1 > f2)\n",
    "\n",
    "        "
   ]
  },
  {
   "cell_type": "markdown",
   "metadata": {},
   "source": [
    "# Class Gate"
   ]
  },
  {
   "cell_type": "code",
   "execution_count": 47,
   "metadata": {},
   "outputs": [
    {
     "name": "stdout",
     "output_type": "stream",
     "text": [
      "Enter pinA input for GateG2-->0\n",
      "Enter pinB input for GateG2-->0\n"
     ]
    },
    {
     "data": {
      "text/plain": [
       "0"
      ]
     },
     "execution_count": 47,
     "metadata": {},
     "output_type": "execute_result"
    }
   ],
   "source": [
    "class LogicGate:\n",
    "    def __init__(self, n):\n",
    "        self.label = n\n",
    "        self.output = None\n",
    "    \n",
    "    def getLabel(self):\n",
    "        return self.label\n",
    "    \n",
    "    def getOutput(self):\n",
    "        self.output = self.performGateLogic()\n",
    "        return self.output\n",
    "    \n",
    "class BinaryGate(LogicGate):\n",
    "    def __init__(self, n):\n",
    "        LogicGate.__init__(self, n)\n",
    "        \n",
    "        self.pinA = None\n",
    "        self.pinB = None\n",
    "        \n",
    "    def getPinA(self):\n",
    "        return int(input(\"Enter pinA input for Gate\" + self.getLabel() + \"-->\"))\n",
    "    \n",
    "    def getPinB(self):\n",
    "        return int(input(\"Enter pinB input for Gate\" + self.getLabel() + \"-->\"))\n",
    "\n",
    "class UnaryGate(LogicGate):\n",
    "    def __init__(self, n):\n",
    "        LogicGate.__init__(self, n)\n",
    "        \n",
    "        self.pin = None\n",
    "    \n",
    "    def getPin(self):\n",
    "        return int(input(\"Enter pin input for Gate\" + self.getLabel() + \"-->\"))\n",
    "    \n",
    "class AndGate(BinaryGate):\n",
    "    def __init__(self, n):\n",
    "        BinaryGate.__init__(self, n)\n",
    "        \n",
    "    def performGateLogic(self):\n",
    "        a = self.getPinA()\n",
    "        b = self.getPinB()\n",
    "        if a == 1 and b == 1:\n",
    "            return 1\n",
    "        else:\n",
    "            return 0\n",
    "\n",
    "class OrGate(BinaryGate):\n",
    "    def __init__(self, n):\n",
    "        BinaryGate.__init__(self, n)\n",
    "        \n",
    "    def performGateLogic(self):\n",
    "        a = self.getPinA()\n",
    "        b = self.getPinB()\n",
    "        if a == 1 or b == 1:\n",
    "            return 1\n",
    "        else:\n",
    "            return 0\n",
    "\n",
    "class NorGate(BinaryGate):\n",
    "    def __init__(self, n):\n",
    "        BinaryGate.__init__(self, n)\n",
    "        \n",
    "    def performGateLogic(self):\n",
    "        a = self.getPinA()\n",
    "        b = self.getPinB()\n",
    "        if a == 1 or b == 1:\n",
    "            return 0\n",
    "        else:\n",
    "            return 1\n",
    "\n",
    "class NandGate(BinaryGate):\n",
    "    def __init__(self, n):\n",
    "        BinaryGate.__init__(self, n)\n",
    "        \n",
    "    def performGateLogic(self):\n",
    "        a = self.getPinA()\n",
    "        b = self.getPinB()\n",
    "        if a == 1 and b == 1:\n",
    "            return 0\n",
    "        else:\n",
    "            return 1\n",
    "\n",
    "\n",
    "\n",
    "# g1 = AndGate(\"G1\")\n",
    "# g1.getOutput()\n",
    "g2 = OrGate(\"G2\")\n",
    "g2.getOutput()\n",
    "\n",
    "        \n",
    "        "
   ]
  },
  {
   "cell_type": "markdown",
   "metadata": {},
   "source": [
    "# MSDie Class"
   ]
  },
  {
   "cell_type": "code",
   "execution_count": 10,
   "metadata": {},
   "outputs": [
    {
     "data": {
      "text/plain": [
       "<__main__.MSDie at 0x105bea400>"
      ]
     },
     "execution_count": 10,
     "metadata": {},
     "output_type": "execute_result"
    }
   ],
   "source": [
    "import random\n",
    "\n",
    "class MSDie:\n",
    "    \"\"\"\n",
    "    Multi-sided die\n",
    "    Instance Variables:\n",
    "        current_value\n",
    "        num_sides\n",
    "    \"\"\"\n",
    "    def __init__(self, num_sides):\n",
    "        self.num_sides = num_sides\n",
    "        self.current_value = self.roll()\n",
    "        \n",
    "    def roll(self):\n",
    "        self.current_value = random.randrange(1, self.num_sides + 1)\n",
    "        return self.current_value\n",
    "    \n",
    "    def __str__(self):\n",
    "        return str(self.current_value)\n",
    "    \n",
    "    def __repr__(self):\n",
    "        return \"MSDie({}) : {}\".format(self.num_sides, self.current_value)\n",
    "    \n",
    "my_die = MSDie(6)\n",
    "\n",
    "my_die.roll()\n",
    "d_list = [MSDie(6), MSDie(20)]\n",
    "MSDie(6)\n",
    "   "
   ]
  },
  {
   "cell_type": "code",
   "execution_count": 4,
   "metadata": {
    "collapsed": true
   },
   "outputs": [
    {
     "name": "stdout",
     "output_type": "stream",
     "text": [
      "(50000005000000, 0.6281850337982178)\n",
      "(50000005000000.0, 9.5367431640625e-07)\n"
     ]
    }
   ],
   "source": [
    "import time\n",
    "\n",
    "def sumOfN2(n):\n",
    "   start = time.time()\n",
    "\n",
    "   theSum = 0\n",
    "   for i in range(1,n+1):\n",
    "      theSum = theSum + i\n",
    "\n",
    "   end = time.time()\n",
    "\n",
    "   return theSum,end-start\n",
    "\n",
    "def sumOfN3(n):\n",
    "    start = time.time()\n",
    "    \n",
    "    theSum = (n*(n+1))/2\n",
    "    \n",
    "    end = time.time()\n",
    "    \n",
    "    return theSum, end-start\n",
    "\n",
    "print(sumOfN2(10000000))\n",
    "print(sumOfN3(10000000))\n",
    "\n"
   ]
  },
  {
   "cell_type": "code",
   "execution_count": 16,
   "metadata": {
    "collapsed": true
   },
   "outputs": [
    {
     "name": "stdout",
     "output_type": "stream",
     "text": [
      "size of list: 1000, execute time0: 0.041583\n",
      "size of list: 2000, execute time0: 0.151006\n",
      "size of list: 3000, execute time0: 0.354232\n",
      "size of list: 4000, execute time0: 0.654207\n",
      "size of list: 5000, execute time0: 0.858516\n",
      "size of list: 6000, execute time0: 1.332906\n",
      "size of list: 7000, execute time0: 1.738219\n",
      "size of list: 8000, execute time0: 2.180550\n",
      "size of list: 9000, execute time0: 2.736245\n",
      "size of list: 10000, execute time0: 3.385581\n",
      "size of list: 1000, execute time1: 0.000063\n",
      "size of list: 2000, execute time1: 0.000126\n",
      "size of list: 3000, execute time1: 0.000191\n",
      "size of list: 4000, execute time1: 0.000254\n",
      "size of list: 5000, execute time1: 0.000318\n",
      "size of list: 6000, execute time1: 0.000381\n",
      "size of list: 7000, execute time1: 0.000456\n",
      "size of list: 8000, execute time1: 0.000507\n",
      "size of list: 9000, execute time1: 0.000573\n",
      "size of list: 10000, execute time1: 0.000646\n"
     ]
    }
   ],
   "source": [
    "# 3.3\n",
    "\n",
    "import time\n",
    "from random import randrange\n",
    "\n",
    "def minInList0(aList):\n",
    "    overallMin = aList[0]\n",
    "    for i in aList:\n",
    "        isMin = True\n",
    "        for j in aList:\n",
    "            if i > j:\n",
    "                isMin = False\n",
    "        if isMin:\n",
    "            overallMin = i\n",
    "    return overallMin\n",
    "\n",
    "def minInList1(aList):\n",
    "    overallMin = aList[0]\n",
    "    for i in range(len(aList)):\n",
    "        if overallMin > aList[i]:\n",
    "            overallMin = aList[i]\n",
    "    return overallMin\n",
    "\n",
    "for listSize in range(1000,10001,1000):\n",
    "    aList = [randrange(1000000) for x in range(listSize)]\n",
    "    startTime = time.time()\n",
    "    minInList0(aList)\n",
    "    endTime = time.time()\n",
    "    print(\"size of list: %d, execute time0: %f\" % (listSize, endTime - startTime))\n",
    "\n",
    "for listSize in range(1000,10001,1000):\n",
    "    aList = [randrange(1000000) for x in range(listSize)]\n",
    "    startTime = time.time()\n",
    "    minInList1(aList)\n",
    "    endTime = time.time()\n",
    "    print(\"size of list: %d, execute time1: %f\" % (listSize, endTime - startTime))\n",
    "\n"
   ]
  },
  {
   "cell_type": "code",
   "execution_count": 22,
   "metadata": {},
   "outputs": [
    {
     "name": "stdout",
     "output_type": "stream",
     "text": [
      "[120, 137, 234, 422, 519, 542, 636, 856, 910, 920]\n",
      "120\n"
     ]
    }
   ],
   "source": [
    "# 3.4\n",
    "import timeit\n",
    "import matplotlib.pyplot as plt\n",
    "import random\n",
    "\n",
    "# popzero = Timer(\"x.pop(0)\", \"from __main__ import x\")\n",
    "# popend = Timer(\"x.pop()\", \"from __main__ import x\")\n",
    "\n",
    "# x = list(range(2000000))\n",
    "# print(popzero.timeit(number = 1000))\n",
    "\n",
    "# pzlist = []\n",
    "# pelist = []\n",
    "# rangelist = []\n",
    "\n",
    "# for i in range(1000,100001,1000):\n",
    "#     x = list(range(i))\n",
    "#     pz = popzero.timeit(number = 1000)\n",
    "#     pzlist.append(pz)\n",
    "#     x = list(range(i))\n",
    "#     pe = popend.timeit(number = 1000)\n",
    "#     pelist.append(pe)\n",
    "#     rangelist.append(i)\n",
    "#     print(i, end = ',')\n",
    "\n",
    "# plt.plot(rangelist, pzlist)\n",
    "# plt.plot(rangelist, pelist)\n",
    "# plt.show()\n",
    "\n",
    "\n",
    "def index_complexity():\n",
    "\n",
    "    index_list = []\n",
    "    range_list = []\n",
    "\n",
    "    for i in range(1000,100001,1000):\n",
    "        x = list(range(i))\n",
    "        range_list.append(i)\n",
    "        random_item = i//2\n",
    "        index_x = timeit.Timer(\"x[%d]\"%random_item, \"from __main__ import x\")\n",
    "        index_time = index_x.timeit(number = 1000)\n",
    "        index_list.append(index_time)\n",
    "\n",
    "    plt.plot(range_list, index_list)\n",
    "    plt.show()\n",
    "\n",
    "# index_complexity()\n",
    "\n",
    "\n",
    "# index_list = []\n",
    "# range_list = []\n",
    "# x = []\n",
    "\n",
    "# for i in range(1000,100001,1000):\n",
    "#     x = list(range(i))\n",
    "#     range_list.append(i)\n",
    "#     random_item = 1\n",
    "#     list_delete_x = timeit.Timer(\"del x[1]\", \"from __main__ import x\")\n",
    "#     index_time = list_delete_x.timeit(number = 1000)\n",
    "#     index_list.append(index_time)\n",
    "\n",
    "# plt.plot(range_list, index_list)\n",
    "# plt.show()\n",
    "\n",
    "listSize = 10\n",
    "k = 1\n",
    "\n",
    "aList = [random.randrange(1000) for x in range(listSize)]\n",
    "aList.sort()\n",
    "kthSmall = aList[k-1]\n",
    "print(aList)\n",
    "print(kthSmall)\n"
   ]
  },
  {
   "cell_type": "code",
   "execution_count": 1,
   "metadata": {},
   "outputs": [
    {
     "name": "stdout",
     "output_type": "stream",
     "text": [
      "True\n",
      "dog\n"
     ]
    }
   ],
   "source": [
    "from pythonds.basic import Stack\n",
    "\n",
    "s=Stack()\n",
    "\n",
    "print(s.isEmpty())\n",
    "s.push(4)\n",
    "s.push('dog')\n",
    "print(s.peek())"
   ]
  },
  {
   "cell_type": "code",
   "execution_count": 10,
   "metadata": {},
   "outputs": [
    {
     "name": "stdout",
     "output_type": "stream",
     "text": [
      "True\n",
      "False\n"
     ]
    }
   ],
   "source": [
    "# Simple Balanced Parentheses Checker\n",
    "from pythonds.basic import Stack\n",
    "\n",
    "def parChecker(symbolString):\n",
    "    s = Stack()\n",
    "    balanced = True\n",
    "    index = 0\n",
    "    while index < len(symbolString) and balanced:\n",
    "        symbol = symbolString[index]\n",
    "        if symbol == \"(\":\n",
    "            s.push(symbol)\n",
    "        elif symbol == \")\":\n",
    "            if s.isEmpty():\n",
    "                balanced = False\n",
    "            else:\n",
    "                s.pop()\n",
    "\n",
    "        index = index + 1\n",
    "\n",
    "    if balanced and s.isEmpty():\n",
    "        return True\n",
    "    else:\n",
    "        return False\n",
    "\n",
    "print(parChecker('((a(a)))'))\n",
    "print(parChecker('(()'))"
   ]
  },
  {
   "cell_type": "code",
   "execution_count": 16,
   "metadata": {},
   "outputs": [
    {
     "name": "stdout",
     "output_type": "stream",
     "text": [
      "True\n",
      "True\n"
     ]
    }
   ],
   "source": [
    "# General Balanced Parentheses Checker\n",
    "from pythonds.basic import Stack\n",
    "\n",
    "def parChecker(symbolString):\n",
    "    s = Stack()\n",
    "    balanced = True\n",
    "    index = 0\n",
    "    while index < len(symbolString) and balanced:\n",
    "        symbol = symbolString[index]\n",
    "        if symbol in \"([{\":\n",
    "            s.push(symbol)\n",
    "        elif symbol in \")]}\":\n",
    "            if s.isEmpty():\n",
    "                balanced = False\n",
    "            else:\n",
    "                top = s.pop()\n",
    "                if not matches(top,symbol):\n",
    "                       balanced = False\n",
    "        index = index + 1\n",
    "    if balanced and s.isEmpty():\n",
    "        return True\n",
    "    else:\n",
    "        return False\n",
    "\n",
    "def matches(open,close):\n",
    "    opens = \"([{\"\n",
    "    closers = \")]}\"\n",
    "    return opens.index(open) == closers.index(close)\n",
    "\n",
    "\n",
    "print(parChecker('{({([a][])}(b))}'))\n",
    "print(parChecker('[{(aaaaa)}]'))"
   ]
  },
  {
   "cell_type": "code",
   "execution_count": 3,
   "metadata": {},
   "outputs": [
    {
     "name": "stdout",
     "output_type": "stream",
     "text": [
      "5 3 4 2 - ** *\n"
     ]
    }
   ],
   "source": [
    "# infix to postfix function\n",
    "from pythonds.basic import Stack\n",
    "\n",
    "def infixToPostfix(infixexpr):\n",
    "    prec = {}\n",
    "    prec[\"**\"]= 4\n",
    "    prec[\"*\"] = 3\n",
    "    prec[\"/\"] = 3\n",
    "    prec[\"+\"] = 2\n",
    "    prec[\"-\"] = 2\n",
    "    prec[\"(\"] = 1\n",
    "    opStack = Stack()\n",
    "    postfixList = []\n",
    "    tokenList = infixexpr.split()\n",
    "\n",
    "    for token in tokenList:\n",
    "        if token in \"ABCDEFGHIJKLMNOPQRSTUVWXYZ\" or token in \"0123456789\":\n",
    "            postfixList.append(token)\n",
    "        elif token == '(':\n",
    "            opStack.push(token)\n",
    "        elif token == ')':\n",
    "            topToken = opStack.pop()\n",
    "            while topToken != '(':\n",
    "                postfixList.append(topToken)\n",
    "                topToken = opStack.pop()\n",
    "        else:\n",
    "            while (not opStack.isEmpty()) and \\\n",
    "               (prec[opStack.peek()] >= prec[token]):\n",
    "                  postfixList.append(opStack.pop())\n",
    "            opStack.push(token)\n",
    "\n",
    "    while not opStack.isEmpty():\n",
    "        postfixList.append(opStack.pop())\n",
    "    return \" \".join(postfixList)\n",
    "\n",
    "print(infixToPostfix(\"5 * 3 ** ( 4 - 2 )\"))"
   ]
  },
  {
   "cell_type": "code",
   "execution_count": null,
   "metadata": {},
   "outputs": [],
   "source": []
  }
 ],
 "metadata": {
  "kernelspec": {
   "display_name": "Python 3",
   "language": "python",
   "name": "python3"
  },
  "language_info": {
   "codemirror_mode": {
    "name": "ipython",
    "version": 3
   },
   "file_extension": ".py",
   "mimetype": "text/x-python",
   "name": "python",
   "nbconvert_exporter": "python",
   "pygments_lexer": "ipython3",
   "version": "3.9.0"
  },
  "toc": {
   "base_numbering": 1,
   "nav_menu": {
    "height": "182px",
    "width": "226px"
   },
   "number_sections": true,
   "sideBar": true,
   "skip_h1_title": false,
   "title_cell": "Table of Contents",
   "title_sidebar": "Contents",
   "toc_cell": false,
   "toc_position": {},
   "toc_section_display": true,
   "toc_window_display": false
  }
 },
 "nbformat": 4,
 "nbformat_minor": 2
}
